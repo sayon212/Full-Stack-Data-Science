{
 "cells": [
  {
   "cell_type": "raw",
   "id": "7e6ad9d5",
   "metadata": {},
   "source": [
    "1. What is the name of the feature responsible for generating Regex objects?\n",
    "\n",
    "Answer:- Re module is responsible for generating Regex in python."
   ]
  },
  {
   "cell_type": "raw",
   "id": "95ad7795",
   "metadata": {},
   "source": [
    "2. Why do raw strings often appear in Regex objects?\n",
    "\n",
    "Answer:- Raw strings are used so that back-slashes do not have to be escaped. Regex is a sequence of characters that forms a search pattern . RegEx can be used to check if a string contains the specified search pattern."
   ]
  },
  {
   "cell_type": "raw",
   "id": "4ed29b73",
   "metadata": {},
   "source": [
    "3. What is the return value of the search() method?\n",
    "\n",
    "Answer: search() returns re.Match "
   ]
  },
  {
   "cell_type": "raw",
   "id": "3778fea4",
   "metadata": {},
   "source": [
    "4. From a Match item, how do you get the actual strings that match the pattern?\n",
    "\n",
    "Answer:- We can use match.group() to get the actual strings that matches the pattern ."
   ]
  },
  {
   "cell_type": "raw",
   "id": "053c36af",
   "metadata": {},
   "source": [
    "5. In the regex which created from the r'(\\d\\d\\d)-(\\d\\d\\d-\\d\\d\\d\\d)', what does group zero cover? Group 2? Group 1?\n",
    "\n",
    "Answer - Group zero covers all the 10 characters . \n",
    "         Group 2 covers last seven characters .  \n",
    "         Group 1 covers first three characters . "
   ]
  },
  {
   "cell_type": "raw",
   "id": "1e6753cb",
   "metadata": {},
   "source": [
    "6. In standard expression syntax, parentheses and intervals have distinct meanings. How can you tell\n",
    "a regex that you want it to fit real parentheses and periods?\n",
    "\n",
    "Answer - We need to write \\\\( or use a raw string example: r'\\(' or r\"\\(\""
   ]
  },
  {
   "cell_type": "raw",
   "id": "ed6db682",
   "metadata": {},
   "source": [
    "7. The findall() method returns a string list or a list of string tuples. What causes it to return one of\n",
    "the two options?\n",
    "\n",
    "Answer - If there are no groups then it will return a list of strings matching the whole pattern. \n",
    "\n",
    "If there is exactly one group then it will return a list of strings matching that group. \n",
    "\n",
    "If multiple groups are present then it will return a list of tuples of strings matching the groups."
   ]
  },
  {
   "cell_type": "raw",
   "id": "be46a727",
   "metadata": {},
   "source": [
    "8. In standard expressions, what does the | character mean?\n",
    "\n",
    "Answer - | means logical OR ."
   ]
  },
  {
   "cell_type": "raw",
   "id": "39127bde",
   "metadata": {},
   "source": [
    "9. In regular expressions, what does the character stand for?\n",
    "\n",
    "Answer - In regular expressions A|B, creates expression that will match either A or B. An arbitrary number of regular expressions can be separated by the '|' in this way. When one pattern completely matches, that branch is accepted. This means that once A matches, B will not be tested further, even if it would produce a longer overall match."
   ]
  },
  {
   "cell_type": "raw",
   "id": "b218bf07",
   "metadata": {},
   "source": [
    "10.In regular expressions, what is the difference between the + and * characters?\n",
    "\n",
    "+ :  Causes the resulting regular expression to match 1 or more repetitions of the preceding regular expression. ab+ will match 'a' followed by any non-zero number of 'b' . it will not match just 'a'.\n",
    "\n",
    "* : Causes the resulting regular expression to match 0 or more repetitions of the preceding regular expression, as many repetitions as are possible. ab* will match 'a', 'ab', or 'a' followed by any number of 'b'."
   ]
  },
  {
   "cell_type": "raw",
   "id": "aff1cfef",
   "metadata": {},
   "source": [
    "11. What is the difference between {4} and {4,5} in regular expression?\n",
    "\n",
    "Answer - \n",
    "\n",
    "a{4} will match exactly four 'a' characters .\n",
    "\n",
    "a{4,5} will match from 4 to 5 'a' characters .  "
   ]
  },
  {
   "cell_type": "raw",
   "id": "1e96ca2f",
   "metadata": {},
   "source": [
    "12. What do you mean by the \\d, \\w, and \\s shorthand character classes signify in regular expressions?\n",
    "\n",
    "Answer - \n",
    "\n",
    "\\d : Returns a match where the string contains digits i.e. numbers from 0-9 .\n",
    "\n",
    "\\w : Returns a match where the string contains any word characters i.e. from a to Z, 0-9, and _ character .\n",
    "\n",
    "\\s : Returns a match where the string contains a white space character ."
   ]
  },
  {
   "cell_type": "raw",
   "id": "35893310",
   "metadata": {},
   "source": [
    "13. What do means by \\D, \\W, and \\S shorthand character classes signify in regular expressions?\n",
    "\n",
    "Answer - \n",
    "\n",
    "\\D : Returns a match where the string does not contain digits .\n",
    "\n",
    "\\W : Returns a match where the string does not contain any word characters .\n",
    "\n",
    "\\S : Returns a match where the string does not contain a white space character ."
   ]
  },
  {
   "cell_type": "raw",
   "id": "1dfe29fc",
   "metadata": {},
   "source": [
    "14. What is the difference between .*? and .*?\n",
    "\n",
    "Answer - If word then .* is used (word.*) that means it will find the string starting with word .\n",
    "\n",
    "If .* then the word (.*word) that means it will find the string ending with word ."
   ]
  },
  {
   "cell_type": "raw",
   "id": "fbbaa5ea",
   "metadata": {},
   "source": [
    "15. What is the syntax for matching both numbers and lowercase letters with a character class?\n",
    "\n",
    "Answer - re.findall(\"\\w\", text)"
   ]
  },
  {
   "cell_type": "raw",
   "id": "606dd6b9",
   "metadata": {},
   "source": [
    "16. What is the procedure for making a normal expression in regax case insensitive?\n",
    "\n",
    "Answer - We need to use re.IGNORECASE .\n",
    "Example: re.search('test', 'TeSt', re.IGNORECASE)"
   ]
  },
  {
   "cell_type": "raw",
   "id": "fbb0b23a",
   "metadata": {},
   "source": [
    "17. What does the . character normally match? What does it match if re.DOTALL is passed as 2nd\n",
    "argument in re.compile()?\n",
    "\n",
    "Answer - \n",
    "\n",
    ". character will match any character except newline character\n",
    "\n",
    "DOTALL is the flag related to multiline text. It allows to match newlines as well"
   ]
  },
  {
   "cell_type": "raw",
   "id": "e88dcb3e",
   "metadata": {},
   "source": [
    "18. If numReg = re.compile(r'\\d+'), what will numRegex.sub('X', '11 drummers, 10 pipers, five rings, 4 hen') return?\n",
    "\n",
    "Answer - It will return \" X drummers, X pipers, five rings, X hen \""
   ]
  },
  {
   "cell_type": "raw",
   "id": "fc3f25a3",
   "metadata": {},
   "source": [
    "19. What does passing re.VERBOSE as the 2nd argument to re.compile() allow to do?\n",
    "\n",
    "Answer - When passed as an argument to re.compile() i.e re.compile(Regular Expression, re.VERBOSE) it returns a RegexObject which is then matched with the given string."
   ]
  },
  {
   "cell_type": "raw",
   "id": "cf99a5fe",
   "metadata": {},
   "source": [
    "20. How would you write a regex that match a number with comma for every three digits? \n",
    "It must match the given following:\n",
    "\n",
    "'42'\n",
    "'1,234'\n",
    "'6,368,745'\n",
    "\n",
    "but not the following:\n",
    "\n",
    "'12,34,567' (which has only two digits between the commas)\n",
    "'1234' (which lacks commas)\n",
    "\n",
    "Answer - re.compile(r'^\\d{1,2}(,\\d{3})*$')"
   ]
  },
  {
   "cell_type": "raw",
   "id": "ed7b9dd5",
   "metadata": {},
   "source": [
    "21. How would you write a regex that matches the full name of someone whose last name is Watanabe? You can assume that the first name that comes before it will always be one word that begins with a capital letter. The regex must match the following:\n",
    "\n",
    "'Haruto Watanabe'\n",
    "'Alice Watanabe'\n",
    "'RoboCop Watanabe'\n",
    "\n",
    "but not the following:\n",
    "\n",
    "'haruto Watanabe' (where the first name is not capitalized)\n",
    "'Mr. Watanabe' (where the preceding word has a nonletter character)\n",
    "'Watanabe' (which has no first name)\n",
    "'Haruto watanabe' (where Watanabe is not capitalized)\n",
    "\n",
    "Answer - re.compile(r'[A-Z](?:\\w)+\\sWatanabe')"
   ]
  },
  {
   "cell_type": "raw",
   "id": "bab7ddbc",
   "metadata": {},
   "source": [
    "22. How would you write a regex that matches a sentence where the first word is either Alice, Bob, or Carol; the second word is either eats, pets, or throws; the third word is apples, cats, or baseballs; and the sentence ends with a period? This regex should be case-insensitive. It must match the following:\n",
    "\n",
    "'Alice eats apples.'\n",
    "'Bob pets cats.'\n",
    "'Carol throws baseballs.'\n",
    "'Alice throws Apples.'\n",
    "'BOB EATS CATS.'\n",
    "\n",
    "but not the following:\n",
    "\n",
    "'RoboCop eats apples.'\n",
    "'ALICE THROWS FOOTBALLS.'\n",
    "'Carol eats 7 cats.'\n",
    "\n",
    "Answer - re.compile(r'(Alice|Bob|Carol)\\s+(eats|pets|throws)\\s+(apples|cats|baseballs)\\.', re.IGNORECASE)"
   ]
  }
 ],
 "metadata": {
  "kernelspec": {
   "display_name": "Python 3",
   "language": "python",
   "name": "python3"
  },
  "language_info": {
   "codemirror_mode": {
    "name": "ipython",
    "version": 3
   },
   "file_extension": ".py",
   "mimetype": "text/x-python",
   "name": "python",
   "nbconvert_exporter": "python",
   "pygments_lexer": "ipython3",
   "version": "3.8.8"
  }
 },
 "nbformat": 4,
 "nbformat_minor": 5
}
