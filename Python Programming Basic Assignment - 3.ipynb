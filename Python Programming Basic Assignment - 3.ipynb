{
 "cells": [
  {
   "cell_type": "raw",
   "id": "807db55e",
   "metadata": {},
   "source": [
    "1. Write a Python Program to Check if a Number is Positive, Negative or Zero?\n",
    "2. Write a Python Program to Check if a Number is Odd or Even?\n",
    "3. Write a Python Program to Check Leap Year?\n",
    "4. Write a Python Program to Check Prime Number?\n",
    "5. Write a Python Program to Print all Prime Numbers in an Interval of 1-10000?"
   ]
  },
  {
   "cell_type": "raw",
   "id": "f9d7dd33",
   "metadata": {},
   "source": [
    "1. Write a Python Program to Check if a Number is Positive, Negative or Zero?\n",
    "\n",
    "Solution:-\n",
    "\n",
    "a = int(input(\"Enter a number: \"))\n",
    "if a>0:\n",
    "    print(\"{} is a positive number\".format(a))\n",
    "elif a<0:\n",
    "    print(\"{} is a negative number\".format(a))\n",
    "elif a==a:\n",
    "    print(\"Number is a Zero\")"
   ]
  },
  {
   "cell_type": "raw",
   "id": "00b8f1cb",
   "metadata": {},
   "source": [
    "2. Write a Python Program to Check if a Number is Odd or Even?\n",
    "\n",
    "Solution:-\n",
    "\n",
    "a = int(input(\"Enter a number: \"))\n",
    "if a%2 == 0:\n",
    "    print(\"{} is even number\".format(a))\n",
    "else:\n",
    "    print(\"{} is odd number\".format(a))"
   ]
  },
  {
   "cell_type": "raw",
   "id": "f2bab34e",
   "metadata": {},
   "source": [
    "3. Write a Python Program to Check Leap Year?\n",
    "\n",
    "Solution:-\n",
    "\n",
    "year = int(input(\"Enter Year: \"))\n",
    "if year%100 == 0:\n",
    "    if year%400 == 0:\n",
    "        print(\"{} is a Leap year\".format(year))\n",
    "    else:\n",
    "        print(\"{} is not a Not Leap year\".format(year))\n",
    "elif year%4 == 0:\n",
    "    print(\"{} is a Leap year\".format(year))\n",
    "else:\n",
    "    print(\"{}  is not Leap year\".format(year))"
   ]
  },
  {
   "cell_type": "raw",
   "id": "0eddb6d8",
   "metadata": {},
   "source": [
    "4. Write a Python Program to Check Prime Number?"
   ]
  },
  {
   "cell_type": "raw",
   "id": "1c2186df",
   "metadata": {},
   "source": [
    "4. Write a Python Program to Check Prime Number\n",
    "\n",
    "Solution:-\n",
    "\n",
    "a = int(input(\"Enter a number: \"))\n",
    "flag = False\n",
    "if a == 1:\n",
    "    print(\"Not Prime Number\")\n",
    "else:    \n",
    "    for i in range(2,a):\n",
    "        if a%i == 0:\n",
    "            flag = True\n",
    "            break\n",
    "    if flag:\n",
    "            print(\"Not Prime Number\")\n",
    "    else:\n",
    "        print(\"Prime Number\")"
   ]
  },
  {
   "cell_type": "raw",
   "id": "94bb3e08",
   "metadata": {},
   "source": [
    "5. Write a Python Program to Print all Prime Numbers in an Interval of 1-10000?\n",
    "\n",
    "Solution:-\n",
    "\n",
    "for num in range(10000+1):\n",
    "    if num > 1:\n",
    "        for i in range(2, num):\n",
    "            if (num % i) == 0:\n",
    "                break\n",
    "        else:\n",
    "            print(num)"
   ]
  }
 ],
 "metadata": {
  "kernelspec": {
   "display_name": "Python 3",
   "language": "python",
   "name": "python3"
  },
  "language_info": {
   "codemirror_mode": {
    "name": "ipython",
    "version": 3
   },
   "file_extension": ".py",
   "mimetype": "text/x-python",
   "name": "python",
   "nbconvert_exporter": "python",
   "pygments_lexer": "ipython3",
   "version": "3.8.8"
  }
 },
 "nbformat": 4,
 "nbformat_minor": 5
}
