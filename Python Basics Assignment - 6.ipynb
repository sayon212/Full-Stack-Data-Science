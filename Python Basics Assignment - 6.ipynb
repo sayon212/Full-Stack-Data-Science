{
 "cells": [
  {
   "cell_type": "raw",
   "id": "ac9560a5",
   "metadata": {},
   "source": [
    "1. What are escape characters, and how do you use them?\n",
    "\n",
    "Answer:- To write a character which is not allowed in a string like tab or new line, we use special notation called excape characherts.\n",
    "Example: print(\"There is a tab \\t here and \\n im in a new line\")"
   ]
  },
  {
   "cell_type": "raw",
   "id": "d09b29bd",
   "metadata": {},
   "source": [
    "2. What do the escape characters n and t stand for?\n",
    "\n",
    "Answer:- n used like \\n stands for new line . t used like \\t stands for tab."
   ]
  },
  {
   "cell_type": "raw",
   "id": "020b7e55",
   "metadata": {},
   "source": [
    "3. What is the way to include backslash characters in a string?\n",
    "\n",
    "Answer:- We have to use double backslash like \\\\\n",
    "\n",
    "Example: print(\"\\\\n is used for new line\")"
   ]
  },
  {
   "cell_type": "raw",
   "id": "b25ac946",
   "metadata": {},
   "source": [
    "4. The string \"Howl's Moving Castle\" is a correct value. Why isn't the single quote character in the word Howl's not escaped a problem?\n",
    "\n",
    "Answer:- This single quote is enclosed by double quote and is treated as a part of the string. If there was a double quote in place of single quote then we would get error."
   ]
  },
  {
   "cell_type": "raw",
   "id": "ae963c2c",
   "metadata": {},
   "source": [
    "5. How do you write a string of newlines if you don't want to use the n character?\n",
    "\n",
    "Answer:- Without using n character we can use \"\"\" \"\"\" to print string of new lines. Example:\n",
    "\n",
    "print(\"\"\"\n",
    "This is line number 1\n",
    "This is line number 2\n",
    "This is line number 3\n",
    "\"\"\")"
   ]
  },
  {
   "cell_type": "raw",
   "id": "3e9d0c1f",
   "metadata": {},
   "source": [
    "6. What are the values of the given expressions?\n",
    "\n",
    "Answer:-\n",
    "a) 'Hello, world!'[1] : 'e'\n",
    "b) 'Hello, world!'[0:5] : 'Hello'\n",
    "c) 'Hello, world!'[:5] : 'Hello'\n",
    "d) 'Hello, world!'[3:] : 'lo, world!'"
   ]
  },
  {
   "cell_type": "raw",
   "id": "df28f1a2",
   "metadata": {},
   "source": [
    "7. What are the values of the following expressions?\n",
    "\n",
    "Answer:-\n",
    "a) 'Hello'.upper() : 'HELLO'\n",
    "b) 'Hello'.upper().isupper() : True\n",
    "c) 'Hello'.upper().lower() : 'hello'"
   ]
  },
  {
   "cell_type": "raw",
   "id": "2073f069",
   "metadata": {},
   "source": [
    "8. What are the values of the following expressions?\n",
    "\n",
    "Answer:-\n",
    "a) 'Remember, remember, the fifth of July.'.split() : ['Remember,', 'remember,', 'the', 'fifth', 'of', 'July.']\n",
    "b) '-'.join('There can only one.'.split()) : 'There-can-only-one.'"
   ]
  },
  {
   "cell_type": "raw",
   "id": "1cbb8a9a",
   "metadata": {},
   "source": [
    "9. What are the methods for right-justifying, left-justifying, and centering a string?\n",
    "\n",
    "Answer:- The methods are rjust() , ljust() and centre()"
   ]
  },
  {
   "cell_type": "raw",
   "id": "24e4e02f",
   "metadata": {},
   "source": [
    "10. What is the best way to remove whitespace characters from the start or end?\n",
    "\n",
    "Answer:- Using the strip() function ."
   ]
  }
 ],
 "metadata": {
  "kernelspec": {
   "display_name": "Python 3",
   "language": "python",
   "name": "python3"
  },
  "language_info": {
   "codemirror_mode": {
    "name": "ipython",
    "version": 3
   },
   "file_extension": ".py",
   "mimetype": "text/x-python",
   "name": "python",
   "nbconvert_exporter": "python",
   "pygments_lexer": "ipython3",
   "version": "3.8.8"
  }
 },
 "nbformat": 4,
 "nbformat_minor": 5
}
