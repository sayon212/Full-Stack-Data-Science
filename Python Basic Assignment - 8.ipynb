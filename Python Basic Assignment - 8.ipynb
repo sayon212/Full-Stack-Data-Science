{
 "cells": [
  {
   "cell_type": "raw",
   "id": "df992cf9",
   "metadata": {},
   "source": [
    "1. Is the Python Standard Library included with PyInputPlus?\n",
    "\n",
    "Ans - We need to install PyInputPlus separately. It is not available by default."
   ]
  },
  {
   "cell_type": "raw",
   "id": "2d5d93e8",
   "metadata": {},
   "source": [
    "2. Why is PyInputPlus commonly imported with import pyinputplus as pypi?\n",
    "\n",
    "Ans - PyInputPlus has to be imported separately. It does not come by default. pypi is alias for PyInputPlus."
   ]
  },
  {
   "cell_type": "raw",
   "id": "c7a97643",
   "metadata": {},
   "source": [
    "3. How do you distinguish between inputInt() and inputFloat()?\n",
    "\n",
    "Ans - inputInt() will only accept integer values.\n",
    "inputFloat() will only accept float values."
   ]
  },
  {
   "cell_type": "raw",
   "id": "2ca736f4",
   "metadata": {},
   "source": [
    "4. Using PyInputPlus, how do you ensure that the user enters a whole number between 0 and 99?\n",
    "\n",
    "Ans - \n",
    "\n",
    "import pyinputplus as pyip\n",
    "pyip.inputInt(prompt = \"Enter a whole number\" , min = 0 , lessThan = 99)"
   ]
  },
  {
   "cell_type": "raw",
   "id": "b92bdb6b",
   "metadata": {},
   "source": [
    "5. What is transferred to the keyword arguments allowRegexes and blockRegexes?\n",
    "\n",
    "Ans - It passes a sequence of regex str or (regex_str, response_str) tuples that, if matched, \n",
    "will explicitly pass or fail validation. Defaults to None."
   ]
  },
  {
   "cell_type": "raw",
   "id": "e74ff6e1",
   "metadata": {},
   "source": [
    "6. If a blank input is entered three times, what does inputStr(limit=3) do?\n",
    "\n",
    "Ans - It will throw error \"RetryLimitException\""
   ]
  },
  {
   "cell_type": "raw",
   "id": "c67eb3f4",
   "metadata": {},
   "source": [
    "7. If blank input is entered three times, what does inputStr(limit=3, default='hello') do?\n",
    "\n",
    "Ans - By default it will assign 'hello' ."
   ]
  }
 ],
 "metadata": {
  "kernelspec": {
   "display_name": "Python 3",
   "language": "python",
   "name": "python3"
  },
  "language_info": {
   "codemirror_mode": {
    "name": "ipython",
    "version": 3
   },
   "file_extension": ".py",
   "mimetype": "text/x-python",
   "name": "python",
   "nbconvert_exporter": "python",
   "pygments_lexer": "ipython3",
   "version": "3.8.8"
  }
 },
 "nbformat": 4,
 "nbformat_minor": 5
}
