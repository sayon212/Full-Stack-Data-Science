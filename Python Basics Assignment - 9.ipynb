{
 "cells": [
  {
   "cell_type": "raw",
   "id": "5809331a",
   "metadata": {},
   "source": [
    "1. To what does a relative path refer?\n",
    "\n",
    "Ans - The relative path is the path to some file with respect to our current working directory ."
   ]
  },
  {
   "cell_type": "raw",
   "id": "6691f3ee",
   "metadata": {},
   "source": [
    "2. What does an absolute path start with your operating system?\n",
    "\n",
    "Ans - The absolute path is the full path to some place on our computer . It starts with directory name .\n",
    "Example -  C:/users/admin/docs/document.txt"
   ]
  },
  {
   "cell_type": "raw",
   "id": "ad38ba93",
   "metadata": {},
   "source": [
    "3. What do the functions os.getcwd() and os.chdir() do?\n",
    "\n",
    "Ans - os.getcwd() return a string representing the current working directory .\n",
    "\n",
    "os.chdir() will change the current working directory to the specified path"
   ]
  },
  {
   "cell_type": "raw",
   "id": "41434718",
   "metadata": {},
   "source": [
    "4. What are the . and .. folders?\n",
    "\n",
    "Ans - single dot . means current level and double dot .. means one level up."
   ]
  },
  {
   "cell_type": "raw",
   "id": "dd36ec09",
   "metadata": {},
   "source": [
    "5. In C:\\bacon\\eggs\\spam.txt, which part is the dir name, and which part is the base name?\n",
    "\n",
    "Ans - C:\\ is the directory name and spam.txt is the base name."
   ]
  },
  {
   "cell_type": "raw",
   "id": "2bed145c",
   "metadata": {},
   "source": [
    "6. What are the three “mode” arguments that can be passed to the open() function?\n",
    "\n",
    "Ans - There are many arguments that can be passed to open() function . Three of them are r - read mode , \n",
    "w - write mode and a - append mode."
   ]
  },
  {
   "cell_type": "raw",
   "id": "d1800fdd",
   "metadata": {},
   "source": [
    "7. What happens if an existing file is opened in write mode?\n",
    "\n",
    "Ans - If an existing file is opened in write mode then the file will be truncated and existing data will be lost."
   ]
  },
  {
   "cell_type": "raw",
   "id": "e6d4782f",
   "metadata": {},
   "source": [
    "8. How do you tell the difference between read() and readlines()?\n",
    "\n",
    "Ans - read() reads the file as an individual string.\n",
    "\n",
    "readline() reads a single line of the file, allowing the user to parse a single line without necessarily reading the entire file."
   ]
  },
  {
   "cell_type": "raw",
   "id": "07efb75d",
   "metadata": {},
   "source": [
    "9. What data structure does a shelf value resemble?\n",
    "\n",
    "Ans - A shelf value resembles a dictionary since it has keys and values."
   ]
  }
 ],
 "metadata": {
  "kernelspec": {
   "display_name": "Python 3",
   "language": "python",
   "name": "python3"
  },
  "language_info": {
   "codemirror_mode": {
    "name": "ipython",
    "version": 3
   },
   "file_extension": ".py",
   "mimetype": "text/x-python",
   "name": "python",
   "nbconvert_exporter": "python",
   "pygments_lexer": "ipython3",
   "version": "3.8.8"
  }
 },
 "nbformat": 4,
 "nbformat_minor": 5
}
