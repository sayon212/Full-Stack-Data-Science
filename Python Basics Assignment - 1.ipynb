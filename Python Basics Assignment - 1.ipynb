{
 "cells": [
  {
   "cell_type": "raw",
   "id": "e5a9882f",
   "metadata": {},
   "source": [
    "1. In the below elements which of them are values or an expression? eg:- values can be integer or string and expressions will be mathematical operators.\n",
    "\n",
    "Answer - \n",
    "\n",
    "* : This is expression\n",
    "'hello' : This is value\n",
    "-87.8 : This is value\n",
    "- : This is expression\n",
    "/ : This is expression\n",
    "+ : This is expression\n",
    "6 : This is value"
   ]
  },
  {
   "cell_type": "raw",
   "id": "e300834d",
   "metadata": {},
   "source": [
    "2. What is the difference between string and variable?\n",
    "\n",
    "Answer - String is a kind of data type. Example: 'abc' , 'xyz' are string. \n",
    "\n",
    "Variable is like a container which can hold data of any type. Variable can hold int , string , float , boolean etc. data types. Example: var1 = 'abc' , var2 = 4.5"
   ]
  },
  {
   "cell_type": "raw",
   "id": "f0c65e69",
   "metadata": {},
   "source": [
    "3. Describe three different data types\n",
    "\n",
    "Answer - \n",
    "\n",
    "Integer Data Type: Whole numbers are stored as Integer data types. For example: var1 = 5 , var2 = 10 are of Integer data type.\n",
    "\n",
    "Float Type: Any decimal numbers are stored as Float types. For example: var1 = 4.5 , var2 = 33.44\n",
    "\n",
    "String Type: Any character or combination of characters will be stored as String Type. For example: var1 = 'abc' , var2 = 'xyz'"
   ]
  },
  {
   "cell_type": "raw",
   "id": "18435c9e",
   "metadata": {},
   "source": [
    "4. What is an expression made up of? What do all expressions do?\n",
    "\n",
    "Answer - Expression are made up of variable , operator and operands. For example: a = 5 * 4 , here * is the operator and 5 and 4 are operands and a is variable. Expressions will evaluate to some result."
   ]
  },
  {
   "cell_type": "raw",
   "id": "6c1306ea",
   "metadata": {},
   "source": [
    "5. This assignment statements, like spam = 10. What is the difference between an expression and a statement?\n",
    "\n",
    "Answer - An expression is evaluated and it returns some value. A statement may or may not return any value. It can display a value. For example, print('Hello world') is a statement whereas a = 5+4 is an expression as it will evaluate and return 9. And spam = 10 is also a statement , in this case it is assigning a value to variable but it is not evaluating to produce some result."
   ]
  },
  {
   "cell_type": "raw",
   "id": "62e04287",
   "metadata": {},
   "source": [
    "6. After running the following code, what does the variable bacon contain?\n",
    "bacon = 22\n",
    "bacon + 1\n",
    "\n",
    "Answer - Bacon will contain 22 since it is not reassigned like bacon = bacon+1"
   ]
  },
  {
   "cell_type": "raw",
   "id": "1087864d",
   "metadata": {},
   "source": [
    "7. What should the values of the following two terms be?\n",
    "'spam' + 'spamspam'\n",
    "'spam' * 3\n",
    "\n",
    "Answer - \n",
    "\n",
    "'spam' + 'spamspam' : 'spamspamspam'\n",
    "'spam' * 3 : 'spamspamspam'"
   ]
  },
  {
   "cell_type": "raw",
   "id": "3fe29055",
   "metadata": {},
   "source": [
    "8. Why is eggs a valid variable name while 100 is invalid?\n",
    "\n",
    "Answer - As per the naming convention and rules for declaring a variable, a variable can start only with a character , it can be alphanumeric but cannot start or can be entirely numeric. So eggs is a valid name whereas 100 is not."
   ]
  },
  {
   "cell_type": "raw",
   "id": "85626664",
   "metadata": {},
   "source": [
    "9. What three functions can be used to get the integer, floating-point number, or string version of a value?\n",
    "\n",
    "Answer - We can use int() , float() or str() to get the respective versions.\n",
    "For example if a = 10 then int(a) output is 10 , float(a) output is 10.0 , str(a) output is '10'"
   ]
  },
  {
   "cell_type": "raw",
   "id": "156e23e9",
   "metadata": {},
   "source": [
    "10. Why does this expression cause an error? How can you fix it?\n",
    "'I have eaten ' + 99 + ' burritos.'\n",
    "\n",
    "Answer - The above expression will cause an error because it cannot concat 99 which is integer value with string value. To fix this we can write 'I have eaten ' + str(99) + ' burritos.'"
   ]
  }
 ],
 "metadata": {
  "kernelspec": {
   "display_name": "Python 3",
   "language": "python",
   "name": "python3"
  },
  "language_info": {
   "codemirror_mode": {
    "name": "ipython",
    "version": 3
   },
   "file_extension": ".py",
   "mimetype": "text/x-python",
   "name": "python",
   "nbconvert_exporter": "python",
   "pygments_lexer": "ipython3",
   "version": "3.8.8"
  }
 },
 "nbformat": 4,
 "nbformat_minor": 5
}
