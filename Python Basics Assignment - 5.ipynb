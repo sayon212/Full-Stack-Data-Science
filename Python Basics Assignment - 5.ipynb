{
 "cells": [
  {
   "cell_type": "raw",
   "id": "a8d8b17f",
   "metadata": {},
   "source": [
    "1. What does an empty dictionary's code look like?\n",
    "\n",
    "Answer:- mydict = {}"
   ]
  },
  {
   "cell_type": "raw",
   "id": "3a65b224",
   "metadata": {},
   "source": [
    "2. What is the value of a dictionary value with the key 'foo' and the value 42?\n",
    "\n",
    "Answer:- mydict = {\"foo\" : 42}"
   ]
  },
  {
   "cell_type": "raw",
   "id": "5cba08e4",
   "metadata": {},
   "source": [
    "3. What is the most significant distinction between a dictionary and a list?\n",
    "\n",
    "Answer:- Dictionary stores data in form of key value pair whereas in list there is no key. In dictionary the element is accessed based on their keys whereas in list element is accessed using index."
   ]
  },
  {
   "cell_type": "raw",
   "id": "56f6dd18",
   "metadata": {},
   "source": [
    "4. What happens if you try to access spam['foo'] if spam is {'bar': 100}?\n",
    "\n",
    "Answer:- We will encounter Keyerror as no key 'foo' is present."
   ]
  },
  {
   "cell_type": "raw",
   "id": "3fefef45",
   "metadata": {},
   "source": [
    "5. If a dictionary is stored in spam, what is the difference between the expressions 'cat' in spam and 'cat' in spam.keys()?\n",
    "\n",
    "Answer:- Assuming the dict is like spam = {\"cat\" : \"persian cat\"}\n",
    "'cat' in spam will return True\n",
    "'cat' in spam.keys() will return True\n",
    "In both the cases it 'cat' will refer to the keys of the dict"
   ]
  },
  {
   "cell_type": "raw",
   "id": "7a0a0226",
   "metadata": {},
   "source": [
    "6. If a dictionary is stored in spam, what is the difference between the expressions 'cat' in spam and 'cat' in spam.values()?\n",
    "\n",
    "Answer:- Assuming the dict is like spam = {\"cat\" : \"persian cat\"}\n",
    "'cat' in spam will return True\n",
    "'cat' in spam.values() will return False\n",
    "In second cases it 'cat' will refer to the values of the dict and in our case we donot have 'cat' value"
   ]
  },
  {
   "cell_type": "raw",
   "id": "bfe49fea",
   "metadata": {},
   "source": [
    "7. What is a shortcut for the following code?\n",
    "if 'color' not in spam:\n",
    "spam['color'] = 'black'\n",
    "\n",
    "Answer:- spam.setdefault('color','black')"
   ]
  },
  {
   "cell_type": "raw",
   "id": "d10adf89",
   "metadata": {},
   "source": [
    "8. How do you \"pretty print\" dictionary values using which module and function?\n",
    "\n",
    "Answer:- We have to use pprint module and use pprint function.\n",
    "Example:\n",
    "import pprint\n",
    "pprint.pprint(myDict)"
   ]
  }
 ],
 "metadata": {
  "kernelspec": {
   "display_name": "Python 3",
   "language": "python",
   "name": "python3"
  },
  "language_info": {
   "codemirror_mode": {
    "name": "ipython",
    "version": 3
   },
   "file_extension": ".py",
   "mimetype": "text/x-python",
   "name": "python",
   "nbconvert_exporter": "python",
   "pygments_lexer": "ipython3",
   "version": "3.8.8"
  }
 },
 "nbformat": 4,
 "nbformat_minor": 5
}
