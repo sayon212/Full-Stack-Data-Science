{
 "cells": [
  {
   "cell_type": "raw",
   "id": "005c4507",
   "metadata": {},
   "source": [
    "1. Write a Python program to print \"Hello Python\"?\n",
    "\n",
    "Answer:- print(\"Hello Python\")"
   ]
  },
  {
   "cell_type": "raw",
   "id": "6d87e57d",
   "metadata": {},
   "source": [
    "2. Write a Python program to do arithmetical operations addition and division.\n",
    "\n",
    "Solution:-\n",
    "\n",
    "a = 10\n",
    "b = 5\n",
    "print(\"Addition of a and b is:\",a+b)\n",
    "print(\"Division of a and b is:\",a/b)"
   ]
  },
  {
   "cell_type": "raw",
   "id": "31c8534c",
   "metadata": {},
   "source": [
    "3. Write a Python program to find the area of a triangle?\n",
    "\n",
    "Solution:-\n",
    "\n",
    "base = int(input(\"Enter base:\"))\n",
    "height = int(input(\"Enter height:\"))\n",
    "area = 0.5*base*height\n",
    "print(\"Area of triangle is:\",area)"
   ]
  },
  {
   "cell_type": "raw",
   "id": "56a8d5a9",
   "metadata": {},
   "source": [
    "4. Write a Python program to swap two variables?\n",
    "\n",
    "Solution:-\n",
    "\n",
    "a = int(input(\"Enter num 1: \"))\n",
    "b = int(input(\"Enter num 2: \"))\n",
    "a = a+b\n",
    "b = a-b\n",
    "a = a-b\n",
    "print(\"Num 1 is now:\",a)\n",
    "print(\"Num 2 is now:\",b)"
   ]
  },
  {
   "cell_type": "raw",
   "id": "cfc6e189",
   "metadata": {},
   "source": [
    "5. Write a Python program to generate a random number?\n",
    "\n",
    "Solution:-\n",
    "\n",
    "import random\n",
    "print(random.randint(1,10000000000))"
   ]
  }
 ],
 "metadata": {
  "kernelspec": {
   "display_name": "Python 3",
   "language": "python",
   "name": "python3"
  },
  "language_info": {
   "codemirror_mode": {
    "name": "ipython",
    "version": 3
   },
   "file_extension": ".py",
   "mimetype": "text/x-python",
   "name": "python",
   "nbconvert_exporter": "python",
   "pygments_lexer": "ipython3",
   "version": "3.8.8"
  }
 },
 "nbformat": 4,
 "nbformat_minor": 5
}
