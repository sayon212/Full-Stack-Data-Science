{
 "cells": [
  {
   "cell_type": "raw",
   "id": "0f3419c1",
   "metadata": {},
   "source": [
    "1. Write a Python Program to Display Fibonacci Sequence Using Recursion?\n",
    "Solution:-\n",
    "    \n",
    "def fb(n):\n",
    "    '''This function generates Fibonacci Seq. using recursion'''\n",
    "    try:\n",
    "        if n == 0:\n",
    "            return 0\n",
    "        elif n == 1:\n",
    "            return 1\n",
    "        else:\n",
    "            return (fb(n-2) + fb(n-1))\n",
    "    except Exception as e:\n",
    "        print(e)        \n",
    "def fibonacci():\n",
    "    try:\n",
    "        n = int(input('Enter how many Fibonacci number you want to generate: '))\n",
    "        for i in range(0,n):\n",
    "            print(fb(i),end=\" \")\n",
    "    except Exception as e:\n",
    "        print(e)\n",
    "\n",
    "----------------------------------------------------------------------------------------\n",
    "Output:\n",
    "fibonacci()\n",
    "Enter how many Fibonacci number you want to generate: 10\n",
    "0 1 1 2 3 5 8 13 21 34"
   ]
  },
  {
   "cell_type": "raw",
   "id": "f0c3c36c",
   "metadata": {},
   "source": [
    "2. Write a Python Program to Find Factorial of Number Using Recursion?\n",
    "Solution:-\n",
    "\n",
    "def factorial(n):\n",
    "    '''This function returns factorial using recursion'''\n",
    "    try:\n",
    "        if n == 0 or n == 1:\n",
    "            return 1\n",
    "        else:\n",
    "            return n * factorial(n-1)\n",
    "    except Exception as e:\n",
    "        print(e)\n",
    "        \n",
    "----------------------------------------------------------------------------------------\n",
    "Output:        \n",
    "factorial(10)\n",
    "3628800"
   ]
  },
  {
   "cell_type": "raw",
   "id": "cc89874b",
   "metadata": {},
   "source": [
    "3. Write a Python Program to calculate your Body Mass Index?\n",
    "Solution:-\n",
    "\n",
    "def bmi():\n",
    "    '''Body Mass Index Calculator'''\n",
    "    try:\n",
    "        weight = float(input('enter weight in kg: '))\n",
    "        height = float(input('enter height in ft: '))\n",
    "        heigth_metre = height * 0.3048\n",
    "        bmi = weight / (heigth_metre**2)\n",
    "        print('Body Mass Index is:',bmi)\n",
    "    except Exception as e:\n",
    "        print(e)\n",
    "\n",
    "----------------------------------------------------------------------------------------\n",
    "Output:         \n",
    "bmi()        \n",
    "enter weight in kg: 75\n",
    "enter height in ft: 5.6\n",
    "Body Mass Index is: 25.74277044812593"
   ]
  },
  {
   "cell_type": "raw",
   "id": "ebf681a7",
   "metadata": {},
   "source": [
    "4. Write a Python Program to calculate the natural logarithm of any number?\n",
    "Solution:-\n",
    "\n",
    "def ln():\n",
    "    '''This function calculates Natural Log of a number'''\n",
    "    try:\n",
    "        num = float(input('enter a number:'))\n",
    "        import math\n",
    "        print('ln({}) is {}'.format(num,math.log(2)))\n",
    "    except Exception as e:\n",
    "        print(e)\n",
    "        \n",
    "----------------------------------------------------------------------------------------\n",
    "Output:\n",
    "ln()   \n",
    "enter a number:2\n",
    "ln(2.0) is 0.6931471805599453"
   ]
  },
  {
   "cell_type": "raw",
   "id": "6915cf60",
   "metadata": {},
   "source": [
    "5. Write a Python Program for cube sum of first n natural numbers?\n",
    "Solution:-\n",
    "\n",
    "def calculation(n):\n",
    "    try:\n",
    "        s = (n*(n+1)/2)**2\n",
    "        print('sum of the cubes of first {} natural numbers is {}'.format(n , s))\n",
    "    except Exception as e:\n",
    "        print(e)\n",
    "    \n",
    "def sum_of_cubes():\n",
    "    '''This function calculates sum of cunes of first n natural numbers'''\n",
    "    try:\n",
    "        n = int(input('enter a natural number: '))\n",
    "        if n>=1:\n",
    "            calculation(n)\n",
    "        else:\n",
    "            print('Not a natural number')\n",
    "            sum_of_cubes()\n",
    "    except Exception as e:\n",
    "        print(e)        \n",
    "\n",
    "----------------------------------------------------------------------------------------\n",
    "Output:\n",
    "sum_of_cubes()    \n",
    "enter a natural number: 3\n",
    "sum of the cubes of first 3 natural numbers is 36.0"
   ]
  },
  {
   "cell_type": "code",
   "execution_count": null,
   "id": "ca1b34d0",
   "metadata": {},
   "outputs": [],
   "source": []
  }
 ],
 "metadata": {
  "kernelspec": {
   "display_name": "Python 3",
   "language": "python",
   "name": "python3"
  },
  "language_info": {
   "codemirror_mode": {
    "name": "ipython",
    "version": 3
   },
   "file_extension": ".py",
   "mimetype": "text/x-python",
   "name": "python",
   "nbconvert_exporter": "python",
   "pygments_lexer": "ipython3",
   "version": "3.8.8"
  }
 },
 "nbformat": 4,
 "nbformat_minor": 5
}
