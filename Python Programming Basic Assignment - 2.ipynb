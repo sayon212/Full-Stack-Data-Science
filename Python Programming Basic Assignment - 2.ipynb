{
 "cells": [
  {
   "cell_type": "raw",
   "id": "23820348",
   "metadata": {},
   "source": [
    "1. Write a Python program to convert kilometers to miles?\n",
    "\n",
    "Solution:-\n",
    "\n",
    "km = int(input(\"Enter distance in kilometers: \"))\n",
    "print(\"Distance in miles is: \",km*0.621371)"
   ]
  },
  {
   "cell_type": "raw",
   "id": "56f95258",
   "metadata": {},
   "source": [
    "2. Write a Python program to convert Celsius to Fahrenheit?\n",
    "\n",
    "Solution:-\n",
    "\n",
    "c = int(input(\"Enter temperature in Celsius: \"))\n",
    "print(\"Temperature in Fahrenheit is: \",(c * (9/5)) + 32)"
   ]
  },
  {
   "cell_type": "raw",
   "id": "9a916acf",
   "metadata": {},
   "source": [
    "3. Write a Python program to display calendar?\n",
    "\n",
    "Solution:-\n",
    "\n",
    "import calendar\n",
    "year = int(input(\"Enter year: \"))\n",
    "month = int(input(\"Enter month in mumeric: \"))\n",
    "print(calendar.month(year,month))"
   ]
  },
  {
   "cell_type": "raw",
   "id": "41f7a478",
   "metadata": {},
   "source": [
    "4. Write a Python program to solve quadratic equation?\n",
    "\n",
    "Solution:-\n",
    "\n",
    "import math\n",
    "print(\"Find roots for the quadratic equation ax^2 + bx + c: \")\n",
    "a = int(input(\"Enter value of a with +/- symbol: \"))\n",
    "b = int(input(\"Enter value of b with +/- symbol: \"))\n",
    "c = int(input(\"Enter value of c with +/- symbol: \"))\n",
    "root1 = (-b + math.sqrt((b**2) - (4*a*c))) / (2*a)\n",
    "root2 = (-b - math.sqrt((b**2) - (4*a*c))) / (2*a)\n",
    "print(\"Roots of the equation ({})x^2 + ({})x + ({}) are x = {} and x = {}\".format(a,b,c,root1,root2))"
   ]
  },
  {
   "cell_type": "raw",
   "id": "6769f73f",
   "metadata": {},
   "source": [
    "5. Write a Python program to swap two variables without temp variable?\n",
    "\n",
    "Solution:-\n",
    "\n",
    "a = int(input(\"Enter num 1: \"))\n",
    "b = int(input(\"Enter num 2: \"))\n",
    "a = a+b\n",
    "b = a-b\n",
    "a = a-b\n",
    "print(\"Num 1 is now:\",a)\n",
    "print(\"Num 2 is now:\",b)"
   ]
  }
 ],
 "metadata": {
  "kernelspec": {
   "display_name": "Python 3",
   "language": "python",
   "name": "python3"
  },
  "language_info": {
   "codemirror_mode": {
    "name": "ipython",
    "version": 3
   },
   "file_extension": ".py",
   "mimetype": "text/x-python",
   "name": "python",
   "nbconvert_exporter": "python",
   "pygments_lexer": "ipython3",
   "version": "3.8.8"
  }
 },
 "nbformat": 4,
 "nbformat_minor": 5
}
