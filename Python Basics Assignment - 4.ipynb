{
 "cells": [
  {
   "cell_type": "raw",
   "id": "672f4bf6",
   "metadata": {},
   "source": [
    "1. What exactly is [] ?\n",
    "\n",
    "Answer - This is an empty list"
   ]
  },
  {
   "cell_type": "raw",
   "id": "a12185b5",
   "metadata": {},
   "source": [
    "2. In a list of values stored in a variable called spam, how would you assign the value 'hello' as the third value? (Assume [2, 4, 6, 8, 10] are in spam.)\n",
    "\n",
    "Answer:- spam[2] = \"hello\" . This will replace the 3rd value 6 with \"hello\" ."
   ]
  },
  {
   "cell_type": "raw",
   "id": "b2fe6427",
   "metadata": {},
   "source": [
    "3. What is the value of spam[int(int('3' * 2) / 11)]?\n",
    "\n",
    "Answer - The result is 8.\n",
    "\n",
    "'3' * 2 = 33 as '3' is string\n",
    "int(33)/11 = 3\n",
    "spam[3] = element at 3rd index is 8 ."
   ]
  },
  {
   "cell_type": "raw",
   "id": "3e232a1e",
   "metadata": {},
   "source": [
    "4. What is the value of spam[-1]?\n",
    "\n",
    "Answer:- 10 . It is returning the last element of the list."
   ]
  },
  {
   "cell_type": "raw",
   "id": "6df237cb",
   "metadata": {},
   "source": [
    "5. What is the value of spam[:2]?\n",
    "\n",
    "Answer - [2,4] . It is starting from index 0 and going till 1. It will exclude the upper bound. "
   ]
  },
  {
   "cell_type": "raw",
   "id": "47ea3350",
   "metadata": {},
   "source": [
    "Let's pretend bacon has the list [3.14, 'cat,' 11, 'cat,' True] for the next three questions."
   ]
  },
  {
   "cell_type": "raw",
   "id": "8c5a9d53",
   "metadata": {},
   "source": [
    "Im correcting the list as the comma is not placed correctly in 'cat,' which will throw error.\n",
    "bacon = [3.14, 'cat' , 11, 'cat' , True]\n",
    "\n",
    "6. What is the value of bacon.index('cat')?\n",
    "\n",
    "Answer - It will return 1. It is returning index of the first occurence."
   ]
  },
  {
   "cell_type": "raw",
   "id": "25e04dc7",
   "metadata": {},
   "source": [
    "7. How does bacon.append(99) change the look of the list value in bacon?\n",
    "\n",
    "Answer - Now bacon is: [3.14, 'cat', 11, 'cat', True, 99]"
   ]
  },
  {
   "cell_type": "raw",
   "id": "40f5d447",
   "metadata": {},
   "source": [
    "8. How does bacon.remove('cat') change the look of the list in bacon?\n",
    "\n",
    "Answer - [3.14, 11, 'cat', True, 99] . It is removing 'cat' from first occurence."
   ]
  },
  {
   "cell_type": "raw",
   "id": "de0521a9",
   "metadata": {},
   "source": [
    "9. What are the list concatenation and list replication operators?\n",
    "\n",
    "Answer - We can concat two list using + operator. Example l1 = [1,2] and l2 = [3,4] . l1 + l2 is [1,2,3,4]. \n",
    "\n",
    "We can replicate list using * operator. Example l1 = [1,2] . l1*3 is [1,2,1,2,1,2]"
   ]
  },
  {
   "cell_type": "raw",
   "id": "4a4fe917",
   "metadata": {},
   "source": [
    "10. What is difference between the list methods append() and insert()?\n",
    "\n",
    "Answer - append() will insert the element at the end of the list.\n",
    "\n",
    "insert() will insert the element at a given index."
   ]
  },
  {
   "cell_type": "raw",
   "id": "7568ac0c",
   "metadata": {},
   "source": [
    "11. What are the two methods for removing items from a list?\n",
    "\n",
    "Answer - We can remove using list.pop() and list.remove()\n",
    "\n",
    "pop() takes the value which we want to remove.\n",
    "remove() takes index at which we want to remove the element."
   ]
  },
  {
   "cell_type": "raw",
   "id": "fd746cad",
   "metadata": {},
   "source": [
    "12. Describe how list values and string values are identical.\n",
    "\n",
    "Answer - List and String are identical in their indexing and slicing operation.\n",
    "\n",
    "Example:- \n",
    "l = ['s','a','y','o','n'] and s = 'sayon' .\n",
    "l[0] = 's' and l[0] = 's' \n",
    "l[0:3] = ['s', 'a', 'y'] and s[0:3] = 'say'\n",
    "l[-1] = 'n' and s[-1] = 'n'\n",
    "\n",
    "for i in l:\n",
    "    print(i)\n",
    "\n",
    "s\n",
    "a\n",
    "y\n",
    "o\n",
    "n\n",
    "\n",
    "for i in s:\n",
    "    print(i)\n",
    "\n",
    "s\n",
    "a\n",
    "y\n",
    "o\n",
    "n"
   ]
  },
  {
   "cell_type": "raw",
   "id": "65e35dfb",
   "metadata": {},
   "source": [
    "13. What's the difference between tuples and lists?\n",
    "\n",
    "Answer - The major difference is that in list we can change the value of any element at a given index but we cannot do the same in tuple as it donot support item assignment."
   ]
  },
  {
   "cell_type": "raw",
   "id": "4fa51b0e",
   "metadata": {},
   "source": [
    "14. How do you type a tuple value that only contains the integer 42?\n",
    "\n",
    "Answer:- mytuple = (42,)"
   ]
  },
  {
   "cell_type": "raw",
   "id": "dba91d30",
   "metadata": {},
   "source": [
    "15. How do you get a list value's tuple form? How do you get a tuple value's list form?\n",
    "\n",
    "Answer - We need to do casting operation.\n",
    "\n",
    "Example: l = [1,2,3,4] and t = (1,2,3,4)\n",
    "tuple(l) -> (1,2,3,4) and\n",
    "list(t) -> [1,2,3,4]"
   ]
  },
  {
   "cell_type": "raw",
   "id": "6136bc5b",
   "metadata": {},
   "source": [
    "16. Variables that \"contain\" list values are not necessarily lists themselves. Instead, what do they contain?\n",
    "\n",
    "Answer - In case of a list the variables hold the reference to the values."
   ]
  },
  {
   "cell_type": "raw",
   "id": "dbfe8ae3",
   "metadata": {},
   "source": [
    "17. How do you distinguish between copy.copy() and copy.deepcopy()?\n",
    "\n",
    "Answer - In copy.copy() any changes made to the copy object will not reflect in the original object. Whereas in copy.deepcopy() the changes will get reflected in the original object."
   ]
  }
 ],
 "metadata": {
  "kernelspec": {
   "display_name": "Python 3",
   "language": "python",
   "name": "python3"
  },
  "language_info": {
   "codemirror_mode": {
    "name": "ipython",
    "version": 3
   },
   "file_extension": ".py",
   "mimetype": "text/x-python",
   "name": "python",
   "nbconvert_exporter": "python",
   "pygments_lexer": "ipython3",
   "version": "3.8.8"
  }
 },
 "nbformat": 4,
 "nbformat_minor": 5
}
