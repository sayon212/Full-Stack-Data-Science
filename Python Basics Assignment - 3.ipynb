{
 "cells": [
  {
   "cell_type": "raw",
   "id": "ec13a026",
   "metadata": {},
   "source": [
    "1. Why are functions advantageous to have in your programs?\n",
    "\n",
    "Answer - Functions are very helpful when we want to reuse our code multiple times. Instead of writing the entire code again we can wrap the code inside a function and call it whenever required."
   ]
  },
  {
   "cell_type": "raw",
   "id": "f31723ab",
   "metadata": {},
   "source": [
    "2. When does the code in a function run: when it's specified or when it's called?\n",
    "\n",
    "Answer - The code in the function run when it is called."
   ]
  },
  {
   "cell_type": "raw",
   "id": "28e236c1",
   "metadata": {},
   "source": [
    "3. What statement creates a function?\n",
    "\n",
    "Answer - To create a function we need to use 'def' keyword."
   ]
  },
  {
   "cell_type": "raw",
   "id": "99b1af59",
   "metadata": {},
   "source": [
    "4. What is the difference between a function and a function call?\n",
    "\n",
    "Answer - Function is the block of program which can be reused again and again. The function can be made generic by providing parameters during runtime. \n",
    "\n",
    "In order to execute the function we need to call the function like function_name(input_params) . In this way the function is invoked. When the function is called then the control invokes the function and executes it."
   ]
  },
  {
   "cell_type": "raw",
   "id": "d8e41ff6",
   "metadata": {},
   "source": [
    "5. How many global scopes are there in a Python program? How many local scopes?\n",
    "\n",
    "Answer - There can be only one global scope in a Python program and muntiple local scope."
   ]
  },
  {
   "cell_type": "raw",
   "id": "fbf0f63b",
   "metadata": {},
   "source": [
    "6. What happens to variables in a local scope when the function call returns?\n",
    "\n",
    "Answer - The variables in local scope are available inside the function and not outside the function.\n",
    "\n",
    "Example:\n",
    " \n",
    "def test():\n",
    "    a = 5      # this a is local variable\n",
    "    return a\n",
    "\n",
    "test() will return a=5 .\n",
    "print(a) will throw error since it is not available outside the function ."
   ]
  },
  {
   "cell_type": "raw",
   "id": "843b12ae",
   "metadata": {},
   "source": [
    "7. What is the concept of a return value? Is it possible to have a return value in an expression?\n",
    "\n",
    "Answer - Return is used to return the execution results of the function. We can use return keyword with an expression like for example: \n",
    "\n",
    "def sum(a,b):\n",
    "    return a+b"
   ]
  },
  {
   "cell_type": "raw",
   "id": "c5789faa",
   "metadata": {},
   "source": [
    "8. If a function does not have a return statement, what is the return value of a call to that function?\n",
    "\n",
    "Answer - NoneType"
   ]
  },
  {
   "cell_type": "raw",
   "id": "4c6d906e",
   "metadata": {},
   "source": [
    "9. How do you make a function variable refer to the global variable?\n",
    "\n",
    "Answer - We can make function variable to global variable by using global keyword.\n",
    "\n",
    "Example:\n",
    "\n",
    "def test():\n",
    "    global a\n",
    "    a = 10\n",
    "    return \"This is returned by the function:\" + str(a)\n",
    "\n",
    "test() :- This is returned by the function: 10\n",
    "\n",
    "print(a) :- 10"
   ]
  },
  {
   "cell_type": "raw",
   "id": "a88ad505",
   "metadata": {},
   "source": [
    "10. What is the data type of None?\n",
    "\n",
    "Answer - NoneType"
   ]
  },
  {
   "cell_type": "raw",
   "id": "3a8a80fa",
   "metadata": {},
   "source": [
    "11. What does the sentence import areallyourpetsnamederic do?\n",
    "\n",
    "Answer - It will import the module if any such module exists in the library."
   ]
  },
  {
   "cell_type": "raw",
   "id": "f0c1c159",
   "metadata": {},
   "source": [
    "12. If you had a bacon() feature in a spam module, what would you call it after importing spam?\n",
    "\n",
    "Answer - bacon()"
   ]
  },
  {
   "cell_type": "raw",
   "id": "eb6c8325",
   "metadata": {},
   "source": [
    "13. What can you do to save a programme from crashing if it encounters an error?\n",
    "\n",
    "Answer - We can use the except block to raise an exception incase our program encounters any error. In that case our program will not crash."
   ]
  },
  {
   "cell_type": "raw",
   "id": "0597ddb4",
   "metadata": {},
   "source": [
    "14. What is the purpose of the try clause? What is the purpose of the except clause?\n",
    "\n",
    "Answer - The try clause will attempt to execute the lines written inside the block. If it fails to do so or if it encounters any error , in that case it will go to the except clause and raise an exception without throwing an error. So, it will help the code to continue to run insead of throwing error."
   ]
  }
 ],
 "metadata": {
  "kernelspec": {
   "display_name": "Python 3",
   "language": "python",
   "name": "python3"
  },
  "language_info": {
   "codemirror_mode": {
    "name": "ipython",
    "version": 3
   },
   "file_extension": ".py",
   "mimetype": "text/x-python",
   "name": "python",
   "nbconvert_exporter": "python",
   "pygments_lexer": "ipython3",
   "version": "3.8.8"
  }
 },
 "nbformat": 4,
 "nbformat_minor": 5
}
