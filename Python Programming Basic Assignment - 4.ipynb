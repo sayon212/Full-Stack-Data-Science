{
 "cells": [
  {
   "cell_type": "raw",
   "id": "a6533f9d",
   "metadata": {},
   "source": [
    "1. Write a Python Program to Find the Factorial of a Number?\n",
    "\n",
    "Solution:-\n",
    "\n",
    "def factorial(n):\n",
    "    \n",
    "    '''This function prints a factorial of a number'''\n",
    "\n",
    "    try:\n",
    "        if n == 0 or n == 1:\n",
    "            return 1\n",
    "        else:\n",
    "            return n * factorial(n-1)\n",
    "    except Exception as e:\n",
    "        print(e)"
   ]
  },
  {
   "cell_type": "raw",
   "id": "8867a5fb",
   "metadata": {},
   "source": [
    "2. Write a Python Program to Display the multiplication Table?\n",
    "\n",
    "Solution:-\n",
    "\n",
    "def mutiplication_table():\n",
    "    \n",
    "    '''This function prints multiplication table of a number'''\n",
    "    \n",
    "    try:\n",
    "        n = int(input(\"Enter a number to calculate it's multiplication table: \"))\n",
    "        for i in range(1,11):\n",
    "            print(\"{} x {} = {}\".format(n,i,n*i))\n",
    "    except Exception as e:\n",
    "        print(e)    "
   ]
  },
  {
   "cell_type": "raw",
   "id": "16887441",
   "metadata": {},
   "source": [
    "3. Write a Python Program to Print the Fibonacci sequence?\n",
    "\n",
    "Solution:-\n",
    "\n",
    "def fb(n):\n",
    "    try:\n",
    "        if n == 0:\n",
    "            return 0\n",
    "        elif n == 1:\n",
    "            return 1\n",
    "        else:\n",
    "            return (fb(n-2) + fb(n-1))\n",
    "    except Exception as e:\n",
    "        print(e)        \n",
    "def fibonacci():\n",
    "    try:\n",
    "        n = int(input('Enter how many Fibonacci number you want to generate: '))\n",
    "        for i in range(0,n):\n",
    "            print(fb(i),end=\" \")\n",
    "    except Exception as e:\n",
    "        print(e)"
   ]
  },
  {
   "cell_type": "raw",
   "id": "c221bdc0",
   "metadata": {},
   "source": [
    "4. Write a Python Program to Check Armstrong Number?\n",
    "\n",
    "Solution:-\n",
    "    \n",
    "def armstrong():\n",
    "\n",
    "    '''This function checks if a number is Armstrong or not'''\n",
    "    \n",
    "    try:\n",
    "        n = (input('Enter a 3 digit number: '))\n",
    "        res = 0\n",
    "        for i in range(len(n)):\n",
    "            res = res + int(n[i])**3\n",
    "        if res == int(n) :\n",
    "            print(\"Amrstrong Number\")\n",
    "        else:\n",
    "            print(\"Not Amrstrong Number\")\n",
    "    except Exception as e:\n",
    "        print(e)            "
   ]
  },
  {
   "cell_type": "raw",
   "id": "94801535",
   "metadata": {},
   "source": [
    "5. Write a Python Program to Find Armstrong Number in an Interval?\n",
    "\n",
    "Solution:-\n",
    "\n",
    "def armstrong_in_interval():\n",
    "\n",
    "    '''This function prints all armstrong number within a given interval'''\n",
    "    try:\n",
    "        lower = (input('Enter lower limit in 3 digit: '))\n",
    "        upper = (input('Enter upper limit in 3 digit: '))\n",
    "        for num in range(int(lower) , int(upper)):\n",
    "            res = 0\n",
    "            for element in range(len(str(num))):\n",
    "                num = str(num)\n",
    "                res = res + int(num[element])**3\n",
    "                if res == int(num) :\n",
    "                    print(num)\n",
    "    except Exception as e:\n",
    "        print(e)                    "
   ]
  },
  {
   "cell_type": "raw",
   "id": "c7dc837a",
   "metadata": {},
   "source": [
    "6. Write a Python Program to Find the Sum of Natural Numbers?\n",
    "\n",
    "Solution:-\n",
    "\n",
    "def sum_of_natural_num():\n",
    "    \n",
    "    '''This function calculates sum of first n natural nos'''\n",
    "    \n",
    "    try:\n",
    "        n = int(input(\"enter range: \"))\n",
    "        print(\"Sum of first {} natural numbers is:\".format(n) , (n*(n+1))//2)\n",
    "    except Exception as e:\n",
    "        print(e)"
   ]
  }
 ],
 "metadata": {
  "kernelspec": {
   "display_name": "Python 3",
   "language": "python",
   "name": "python3"
  },
  "language_info": {
   "codemirror_mode": {
    "name": "ipython",
    "version": 3
   },
   "file_extension": ".py",
   "mimetype": "text/x-python",
   "name": "python",
   "nbconvert_exporter": "python",
   "pygments_lexer": "ipython3",
   "version": "3.8.8"
  }
 },
 "nbformat": 4,
 "nbformat_minor": 5
}
