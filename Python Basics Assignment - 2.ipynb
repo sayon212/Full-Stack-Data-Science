{
 "cells": [
  {
   "cell_type": "raw",
   "id": "86c87349",
   "metadata": {},
   "source": [
    "1.What are the two values of the Boolean data type? How do you write them?\n",
    "\n",
    "Answer - The two values of Boolean data type are True and False. We can write them like var1 = True , var2 = False"
   ]
  },
  {
   "cell_type": "raw",
   "id": "960a2676",
   "metadata": {},
   "source": [
    "2. What are the three different types of Boolean operators?\n",
    "\n",
    "Answer - The three different types of Boolean operators are And , Or and Not"
   ]
  },
  {
   "cell_type": "raw",
   "id": "3c66109d",
   "metadata": {},
   "source": [
    "3. Make a list of each Boolean operator's truth tables (i.e. every possible combination of Boolean values for the operator and what it evaluate )\n",
    "\n",
    "Answer - \n",
    "\n",
    "Truth Table for AND operation: \n",
    "True , True - True\n",
    "True , False - False\n",
    "False , True - False\n",
    "False , False - False\n",
    "\n",
    "Truth Table for OR operation: \n",
    "True , True - True\n",
    "True , False - True\n",
    "False , True - True\n",
    "False , False - False\n",
    "\n",
    "Truth Table for NOT operation: \n",
    "\n",
    "True - False\n",
    "False - True"
   ]
  },
  {
   "cell_type": "raw",
   "id": "c1725f1e",
   "metadata": {},
   "source": [
    "4. What are the values of the following expressions?\n",
    "\n",
    "Answer - \n",
    "\n",
    "(5 > 4) and (3 == 5) : False\n",
    "\n",
    "not (5 > 4) : False\n",
    "\n",
    "(5 > 4) or (3 == 5) : True\n",
    "\n",
    "not ((5 > 4) or (3 == 5)) : False\n",
    "\n",
    "(True and True) and (True == False) : False\n",
    "\n",
    "(not False) or (not True) : True"
   ]
  },
  {
   "cell_type": "raw",
   "id": "8baf8652",
   "metadata": {},
   "source": [
    "5. What are the six comparison operators?\n",
    "\n",
    "Answer - \n",
    "\n",
    "greater than ' > '\n",
    "less than ' < '\n",
    "equal to ' == '\n",
    "greater than or equal to ' >= '\n",
    "less than or equal to ' >= '\n",
    "not equal to ' != '"
   ]
  },
  {
   "cell_type": "raw",
   "id": "9f0c6f62",
   "metadata": {},
   "source": [
    "6. How do you tell the difference between the equal to and assignment operators? Describe a condition and when you would use one.\n",
    "\n",
    "Answer - Equal to operator is defined like ' == ' whereas assignment operator is like ' = ' . \n",
    "\n",
    "Equal to operator is used to check whether a variable meets a certain condition. \n",
    "Assignment operator is used to assign a value to a variable.\n",
    "\n",
    "For example, \n",
    "i = 1                # this is assignment\n",
    "if i==1:             # this is equal to\n",
    "    print('Hello world')    "
   ]
  },
  {
   "cell_type": "raw",
   "id": "cb679fec",
   "metadata": {},
   "source": [
    "7. Identify the three blocks in this code:\n",
    "    \n",
    "Answer - \n",
    "\n",
    "spam = 0\n",
    "\n",
    "if spam == 10:               Block 1\n",
    "    print('eggs')\n",
    "    \n",
    "if spam > 5:                 Block 2\n",
    "    print('bacon')\n",
    "\n",
    "else:                        Block 3\n",
    "    print('ham')\n",
    "    print('spam')\n",
    "    print('spam')"
   ]
  },
  {
   "cell_type": "raw",
   "id": "bba7e396",
   "metadata": {},
   "source": [
    "8. Write code that prints Hello if 1 is stored in spam, prints Howdy if 2 is stored in spam, and prints Greetings! if anything else is stored in spam.\n",
    "\n",
    "Solution - \n",
    "\n",
    "spam = 1\n",
    "if spam == 1:\n",
    "    print('Hello')    \n",
    "elif spam == 2:\n",
    "    print('Howdy')   \n",
    "else:\n",
    "    print('Greetings!')"
   ]
  },
  {
   "cell_type": "raw",
   "id": "c4396dec",
   "metadata": {},
   "source": [
    "9.If your programme is stuck in an endless loop, what keys you’ll press?\n",
    "\n",
    "Answer - Ctrl + Alt + Delete"
   ]
  },
  {
   "cell_type": "raw",
   "id": "7966dcb1",
   "metadata": {},
   "source": [
    "10. How can you tell the difference between break and continue?\n",
    "\n",
    "Answer - Break statement will come out of the loop upon meeting a specific condition. Continue statement will skip the execution for that particular iteration only where the condition is meeting the criteria.\n",
    "\n",
    "For example:\n",
    "\n",
    "for i in 'ineuron':\n",
    "    if i == 'u':\n",
    "        break\n",
    "    print(i)\n",
    "\n",
    "Output is: i , n , e\n",
    "\n",
    "for i in 'ineuron':\n",
    "    if i == 'u':\n",
    "        continue\n",
    "    print(i)\n",
    "    \n",
    "Output is: i , n , e , r , o , n"
   ]
  },
  {
   "cell_type": "raw",
   "id": "6202762f",
   "metadata": {},
   "source": [
    "11. In a for loop, what is the difference between range(10), range(0, 10), and range(0, 10, 1)?\n",
    "\n",
    "Answer - All three will have same range from 0 to 9"
   ]
  },
  {
   "cell_type": "raw",
   "id": "b0ab50a5",
   "metadata": {},
   "source": [
    "12. Write a short program that prints the numbers 1 to 10 using a for loop. Then write an equivalent program that prints the numbers 1 to 10 using a while loop.\n",
    "\n",
    "Solution - \n",
    "Using For Loop:\n",
    "\n",
    "for i in range(1,11):\n",
    "    print(i)\n",
    "\n",
    "Using While Loop:\n",
    "\n",
    "i=1\n",
    "while i<11:\n",
    "    print(i)\n",
    "    i = i+1"
   ]
  },
  {
   "cell_type": "raw",
   "id": "9662a5f9",
   "metadata": {},
   "source": [
    "13. If you had a function named bacon() inside a module named spam, how would you call it after importing spam?\n",
    "\n",
    "import spam\n",
    "bacon()"
   ]
  }
 ],
 "metadata": {
  "kernelspec": {
   "display_name": "Python 3",
   "language": "python",
   "name": "python3"
  },
  "language_info": {
   "codemirror_mode": {
    "name": "ipython",
    "version": 3
   },
   "file_extension": ".py",
   "mimetype": "text/x-python",
   "name": "python",
   "nbconvert_exporter": "python",
   "pygments_lexer": "ipython3",
   "version": "3.8.8"
  }
 },
 "nbformat": 4,
 "nbformat_minor": 5
}
